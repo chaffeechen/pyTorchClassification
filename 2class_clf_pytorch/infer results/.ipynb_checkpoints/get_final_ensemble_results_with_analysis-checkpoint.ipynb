{
 "cells": [
  {
   "cell_type": "code",
   "execution_count": 108,
   "metadata": {},
   "outputs": [],
   "source": [
    "import pandas as pd\n",
    "import os\n",
    "import numpy as np\n",
    "from sklearn.metrics import fbeta_score\n",
    "from sklearn.metrics import roc_auc_score"
   ]
  },
  {
   "cell_type": "code",
   "execution_count": 114,
   "metadata": {},
   "outputs": [],
   "source": [
    "df = pd.read_csv('../work/tta_result.csv')"
   ]
  },
  {
   "cell_type": "code",
   "execution_count": 115,
   "metadata": {},
   "outputs": [],
   "source": [
    "df['gt'] = df['id'].apply(lambda x: x.split('clsnn')[-1])"
   ]
  },
  {
   "cell_type": "code",
   "execution_count": 132,
   "metadata": {},
   "outputs": [],
   "source": [
    "for i in range(10):\n",
    "    name = 'gt' + str(i)\n",
    "    df[name] = df['gt'].apply(lambda x: int(x[i]))"
   ]
  },
  {
   "cell_type": "code",
   "execution_count": 118,
   "metadata": {},
   "outputs": [
    {
     "name": "stdout",
     "output_type": "stream",
     "text": [
      "class:  0 auc:  0.9199062854871171 samples:  1499\n",
      "class:  1 auc:  0.9416248869089222 samples:  526\n",
      "class:  2 auc:  0.914278057251072 samples:  8391\n"
     ]
    }
   ],
   "source": [
    "for i in range(3):\n",
    "    print('class: ', i, 'auc: ',\\\n",
    "          roc_auc_score(df['gt' + str(i)], df['c' + str(i)]),\\\n",
    "          'samples: ', sum(df['gt' + str(i)]))"
   ]
  },
  {
   "cell_type": "code",
   "execution_count": 130,
   "metadata": {},
   "outputs": [
    {
     "name": "stdout",
     "output_type": "stream",
     "text": [
      "class:  0 F1 score:  0.6418461538461538\n",
      "class:  1 F1 score:  0.6320000000000001\n",
      "class:  2 F1 score:  0.9265587869186376\n"
     ]
    }
   ],
   "source": [
    "for k in range(3):\n",
    "    max_f1 = 0\n",
    "    for thres in np.arange(0.01, 0.99, 0.001):\n",
    "        f1 = fbeta_score(np.array(df['gt' + str(k)]), np.array(df['c' + str(k)]) > thres, beta = 1)\n",
    "        if max_f1 < f1:\n",
    "            max_f1 = f1\n",
    "    print('class: ', k, 'F1 score: ', max_f1)"
   ]
  },
  {
   "cell_type": "code",
   "execution_count": 60,
   "metadata": {},
   "outputs": [
    {
     "name": "stderr",
     "output_type": "stream",
     "text": [
      "/anaconda3/lib/python3.7/site-packages/ipykernel_launcher.py:3: SettingWithCopyWarning: \n",
      "A value is trying to be set on a copy of a slice from a DataFrame\n",
      "\n",
      "See the caveats in the documentation: http://pandas.pydata.org/pandas-docs/stable/indexing.html#indexing-view-versus-copy\n",
      "  This is separate from the ipykernel package so we can avoid doing imports until\n",
      "/anaconda3/lib/python3.7/site-packages/ipykernel_launcher.py:5: SettingWithCopyWarning: \n",
      "A value is trying to be set on a copy of a slice from a DataFrame\n",
      "\n",
      "See the caveats in the documentation: http://pandas.pydata.org/pandas-docs/stable/indexing.html#indexing-view-versus-copy\n",
      "  \"\"\"\n"
     ]
    },
    {
     "name": "stdout",
     "output_type": "stream",
     "text": [
      "class:  0 F1 score:  0.64340490797546\n",
      "class:  1 F1 score:  0.6230248306997743\n",
      "class:  2 F1 score:  0.9561605906783571\n"
     ]
    }
   ],
   "source": [
    "for c in [0,1,2]:\n",
    "    df['c1_act'] = 0\n",
    "    df['c1_act'][df['attribute_ids'] == c] = 1\n",
    "    df['c1_pred'] = 0\n",
    "    df['c1_pred'][df['pred'] == c] = 1\n",
    "    print('class: ', c, 'F1 score: ', fbeta_score(df['c1_act'],df['c1_pred'], beta = 1))"
   ]
  },
  {
   "cell_type": "code",
   "execution_count": 134,
   "metadata": {},
   "outputs": [],
   "source": [
    "df['sum'] = df['gt0'] + df['gt1'] + df['gt2'] + df['gt3'] + df['gt4'] + df['gt5'] + df['gt6'] + df['gt7'] + \\\n",
    "df['gt8'] + df['gt9']"
   ]
  },
  {
   "cell_type": "code",
   "execution_count": 143,
   "metadata": {},
   "outputs": [
    {
     "name": "stdout",
     "output_type": "stream",
     "text": [
      "1499 2778 0.8532354903268846\n",
      "526 774 0.4714828897338403\n",
      "8391 22650 1.6993207007508044\n"
     ]
    }
   ],
   "source": [
    "for i in range(3):\n",
    "    label_ct = sum(df['gt' + str(i)])\n",
    "    total_ct = sum(df['sum'][df['gt' + str(i)] == 1])\n",
    "    print(label_ct, total_ct, (total_ct - label_ct)/label_ct)"
   ]
  },
  {
   "cell_type": "code",
   "execution_count": null,
   "metadata": {},
   "outputs": [],
   "source": []
  }
 ],
 "metadata": {
  "kernelspec": {
   "display_name": "Python 3",
   "language": "python",
   "name": "python3"
  },
  "language_info": {
   "codemirror_mode": {
    "name": "ipython",
    "version": 3
   },
   "file_extension": ".py",
   "mimetype": "text/x-python",
   "name": "python",
   "nbconvert_exporter": "python",
   "pygments_lexer": "ipython3",
   "version": "3.7.3"
  }
 },
 "nbformat": 4,
 "nbformat_minor": 2
}
